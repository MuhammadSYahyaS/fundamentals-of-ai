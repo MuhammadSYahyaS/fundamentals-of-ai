{
 "cells": [
  {
   "cell_type": "markdown",
   "metadata": {},
   "source": [
    "# Abalone Age Prediction by Multiclass Classification using ANN"
   ]
  },
  {
   "cell_type": "markdown",
   "metadata": {},
   "source": [
    "## Load dataset for the training process"
   ]
  },
  {
   "cell_type": "code",
   "execution_count": 1,
   "metadata": {},
   "outputs": [],
   "source": [
    "import os\n",
    "import numpy as np\n",
    "import pandas as pd\n",
    "\n",
    "from typing import List"
   ]
  },
  {
   "cell_type": "markdown",
   "metadata": {},
   "source": [
    "### Open the CSV"
   ]
  },
  {
   "cell_type": "code",
   "execution_count": 2,
   "metadata": {},
   "outputs": [
    {
     "name": "stdout",
     "output_type": "stream",
     "text": [
      "Num train: 2924\n",
      "Num val: 418\n"
     ]
    },
    {
     "data": {
      "text/html": [
       "<div>\n",
       "<style scoped>\n",
       "    .dataframe tbody tr th:only-of-type {\n",
       "        vertical-align: middle;\n",
       "    }\n",
       "\n",
       "    .dataframe tbody tr th {\n",
       "        vertical-align: top;\n",
       "    }\n",
       "\n",
       "    .dataframe thead th {\n",
       "        text-align: right;\n",
       "    }\n",
       "</style>\n",
       "<table border=\"1\" class=\"dataframe\">\n",
       "  <thead>\n",
       "    <tr style=\"text-align: right;\">\n",
       "      <th></th>\n",
       "      <th>Sex</th>\n",
       "      <th>Length</th>\n",
       "      <th>Diameter</th>\n",
       "      <th>Height</th>\n",
       "      <th>Whole weight</th>\n",
       "      <th>Shucked weight</th>\n",
       "      <th>Viscera weight</th>\n",
       "      <th>Shell weight</th>\n",
       "      <th>Rings</th>\n",
       "    </tr>\n",
       "  </thead>\n",
       "  <tbody>\n",
       "    <tr>\n",
       "      <th>0</th>\n",
       "      <td>1</td>\n",
       "      <td>0.305</td>\n",
       "      <td>0.225</td>\n",
       "      <td>0.070</td>\n",
       "      <td>0.1485</td>\n",
       "      <td>0.0585</td>\n",
       "      <td>0.0335</td>\n",
       "      <td>0.0450</td>\n",
       "      <td>7</td>\n",
       "    </tr>\n",
       "    <tr>\n",
       "      <th>1</th>\n",
       "      <td>2</td>\n",
       "      <td>0.475</td>\n",
       "      <td>0.370</td>\n",
       "      <td>0.125</td>\n",
       "      <td>0.5095</td>\n",
       "      <td>0.2165</td>\n",
       "      <td>0.1125</td>\n",
       "      <td>0.1650</td>\n",
       "      <td>9</td>\n",
       "    </tr>\n",
       "    <tr>\n",
       "      <th>2</th>\n",
       "      <td>0</td>\n",
       "      <td>0.460</td>\n",
       "      <td>0.370</td>\n",
       "      <td>0.120</td>\n",
       "      <td>0.5335</td>\n",
       "      <td>0.2645</td>\n",
       "      <td>0.1080</td>\n",
       "      <td>0.1345</td>\n",
       "      <td>6</td>\n",
       "    </tr>\n",
       "    <tr>\n",
       "      <th>3</th>\n",
       "      <td>2</td>\n",
       "      <td>0.575</td>\n",
       "      <td>0.450</td>\n",
       "      <td>0.155</td>\n",
       "      <td>0.9480</td>\n",
       "      <td>0.4290</td>\n",
       "      <td>0.2060</td>\n",
       "      <td>0.2590</td>\n",
       "      <td>7</td>\n",
       "    </tr>\n",
       "    <tr>\n",
       "      <th>4</th>\n",
       "      <td>2</td>\n",
       "      <td>0.505</td>\n",
       "      <td>0.440</td>\n",
       "      <td>0.140</td>\n",
       "      <td>0.8275</td>\n",
       "      <td>0.3415</td>\n",
       "      <td>0.1855</td>\n",
       "      <td>0.2390</td>\n",
       "      <td>8</td>\n",
       "    </tr>\n",
       "  </tbody>\n",
       "</table>\n",
       "</div>"
      ],
      "text/plain": [
       "   Sex  Length  Diameter  Height  Whole weight  Shucked weight  \\\n",
       "0    1   0.305     0.225   0.070        0.1485          0.0585   \n",
       "1    2   0.475     0.370   0.125        0.5095          0.2165   \n",
       "2    0   0.460     0.370   0.120        0.5335          0.2645   \n",
       "3    2   0.575     0.450   0.155        0.9480          0.4290   \n",
       "4    2   0.505     0.440   0.140        0.8275          0.3415   \n",
       "\n",
       "   Viscera weight  Shell weight  Rings  \n",
       "0          0.0335        0.0450      7  \n",
       "1          0.1125        0.1650      9  \n",
       "2          0.1080        0.1345      6  \n",
       "3          0.2060        0.2590      7  \n",
       "4          0.1855        0.2390      8  "
      ]
     },
     "execution_count": 2,
     "metadata": {},
     "output_type": "execute_result"
    }
   ],
   "source": [
    "df_train = pd.read_csv(\"abalone_train.csv\")\n",
    "df_val = pd.read_csv(\"abalone_val.csv\")\n",
    "print(\"Num train:\", len(df_train))\n",
    "print(\"Num val:\", len(df_val))\n",
    "df_train.head()"
   ]
  },
  {
   "cell_type": "markdown",
   "metadata": {},
   "source": [
    "### Create dataset loader for training and validation process"
   ]
  },
  {
   "cell_type": "code",
   "execution_count": 3,
   "metadata": {},
   "outputs": [],
   "source": [
    "import torch\n",
    "from torch.utils.data import TensorDataset, DataLoader, Dataset"
   ]
  },
  {
   "cell_type": "markdown",
   "metadata": {},
   "source": [
    "### Features to be used and target"
   ]
  },
  {
   "cell_type": "code",
   "execution_count": 4,
   "metadata": {},
   "outputs": [],
   "source": [
    "x_names = [\"Sex\", \"Length\", \"Diameter\", \"Height\", \"Whole weight\", \"Shucked weight\", \"Viscera weight\", \"Shell weight\"]\n",
    "y_name = \"Rings\"\n",
    "# y_classes = list(range(1, 30)) # 1 to 29 (from EDA)"
   ]
  },
  {
   "cell_type": "markdown",
   "metadata": {},
   "source": [
    "### Convert Pandas dataframe to PyTorch dataset"
   ]
  },
  {
   "cell_type": "code",
   "execution_count": 5,
   "metadata": {},
   "outputs": [],
   "source": [
    "def df_to_dataset(df: pd.DataFrame) -> Dataset:\n",
    "    features = df[x_names].to_numpy(dtype=np.float32)\n",
    "    # labels = df[[y_name]].to_numpy(dtype=np.int64).squeeze(axis=1)\n",
    "    # labels = labels - 1 # map class #0 to Rings 1\n",
    "    labels = df[[y_name]].to_numpy(dtype=np.float32).squeeze(axis=1)\n",
    "    features = torch.from_numpy(features)\n",
    "    labels = torch.from_numpy(labels)\n",
    "    my_dataset = TensorDataset(features, labels)\n",
    "    return my_dataset"
   ]
  },
  {
   "cell_type": "code",
   "execution_count": 6,
   "metadata": {},
   "outputs": [],
   "source": [
    "ds_train = df_to_dataset(df_train)\n",
    "ds_val = df_to_dataset(df_val)"
   ]
  },
  {
   "cell_type": "markdown",
   "metadata": {},
   "source": [
    "### Create PyTorch data loader"
   ]
  },
  {
   "cell_type": "code",
   "execution_count": 7,
   "metadata": {},
   "outputs": [],
   "source": [
    "BATCH_SIZE = 64\n",
    "loader_train = DataLoader(ds_train, batch_size=BATCH_SIZE, shuffle=True, drop_last=True) # drop last for stability\n",
    "loader_val = DataLoader(ds_val, batch_size=BATCH_SIZE)"
   ]
  },
  {
   "cell_type": "markdown",
   "metadata": {},
   "source": [
    "## Model training"
   ]
  },
  {
   "cell_type": "code",
   "execution_count": 8,
   "metadata": {},
   "outputs": [],
   "source": [
    "import torch.nn as nn\n",
    "import torch.nn.functional as F\n",
    "\n",
    "from datetime import datetime\n",
    "from torch.utils.tensorboard import SummaryWriter\n",
    "from tqdm.notebook import tqdm\n",
    "# from sklearn.metrics import f1_score, accuracy_score\n",
    "from sklearn.metrics import mean_absolute_error, r2_score, mean_squared_error"
   ]
  },
  {
   "cell_type": "code",
   "execution_count": 9,
   "metadata": {},
   "outputs": [],
   "source": [
    "MAX_EPOCHS = 1000\n",
    "INIT_LR = 1e-5"
   ]
  },
  {
   "cell_type": "markdown",
   "metadata": {},
   "source": [
    "### Which device we will use for training process (CPU/GPU)"
   ]
  },
  {
   "cell_type": "code",
   "execution_count": 10,
   "metadata": {},
   "outputs": [
    {
     "name": "stdout",
     "output_type": "stream",
     "text": [
      "Using device: cuda\n"
     ]
    }
   ],
   "source": [
    "device = torch.device(\"cuda\" if torch.cuda.is_available() else \"cpu\")\n",
    "print(\"Using device:\", device)"
   ]
  },
  {
   "cell_type": "markdown",
   "metadata": {},
   "source": [
    "### Create the model"
   ]
  },
  {
   "cell_type": "code",
   "execution_count": 11,
   "metadata": {},
   "outputs": [],
   "source": [
    "class MLP4Layers(nn.Module):\n",
    "    def __init__(self, n_features: int, n_classes: int):\n",
    "        super().__init__()\n",
    "        self.fc1 = nn.Linear(n_features, 128)\n",
    "        self.fc2 = nn.Linear(128, 512)\n",
    "        self.fc3 = nn.Linear(512, 128)\n",
    "        self.fc4 = nn.Linear(128, n_classes)\n",
    "\n",
    "    def forward(self, x: torch.Tensor) -> torch.Tensor:\n",
    "        x = F.relu(self.fc1(x))\n",
    "        x = F.relu(self.fc2(x))\n",
    "        x = F.relu(self.fc3(x))\n",
    "        x = self.fc4(x)\n",
    "        return x\n",
    "\n",
    "# model = MLP4Layers(n_features=len(x_names), n_classes=len(y_classes))\n",
    "model = MLP4Layers(n_features=len(x_names), n_classes=1)\n",
    "# Move the model from CPU to the device\n",
    "# Actually, only required if the device is not CPU and has no effect if it is CPU\n",
    "model = model.to(device)"
   ]
  },
  {
   "cell_type": "markdown",
   "metadata": {},
   "source": [
    "### Define the loss function and the optimizer"
   ]
  },
  {
   "cell_type": "code",
   "execution_count": 12,
   "metadata": {},
   "outputs": [],
   "source": [
    "# loss_fn = torch.nn.CrossEntropyLoss()\n",
    "loss_fn = torch.nn.MSELoss()\n",
    "optimizer = torch.optim.Adam(model.parameters(), lr=INIT_LR)"
   ]
  },
  {
   "cell_type": "markdown",
   "metadata": {},
   "source": [
    "### Prepare the logger"
   ]
  },
  {
   "cell_type": "code",
   "execution_count": 13,
   "metadata": {},
   "outputs": [],
   "source": [
    "timestamp = datetime.now().strftime('%Y%m%d_%H%M%S')\n",
    "save_dir = os.path.join('runs_reg', 'train_{}'.format(timestamp))\n",
    "os.makedirs(save_dir, exist_ok=True)\n",
    "writer = SummaryWriter(save_dir)"
   ]
  },
  {
   "cell_type": "markdown",
   "metadata": {},
   "source": [
    "### The training and validation process"
   ]
  },
  {
   "cell_type": "markdown",
   "metadata": {},
   "source": [
    "During the training process, launch tensorboard to see the logged train/val metrics\n",
    "```bash\n",
    "tensorboard --logdir runs_clf\n",
    "```\n",
    "Then, open the link using web browser"
   ]
  },
  {
   "cell_type": "code",
   "execution_count": 14,
   "metadata": {},
   "outputs": [
    {
     "data": {
      "application/vnd.jupyter.widget-view+json": {
       "model_id": "8a60bbd1050b4eff9c999ea68947100d",
       "version_major": 2,
       "version_minor": 0
      },
      "text/plain": [
       "  0%|          | 0/1000 [00:00<?, ?it/s]"
      ]
     },
     "metadata": {},
     "output_type": "display_data"
    }
   ],
   "source": [
    "# Variables to hold some training status\n",
    "epoch_number = 0\n",
    "lowest_loss = np.inf\n",
    "# best_f1 = 0.\n",
    "best_mae = np.inf\n",
    "# Training loop\n",
    "for epoch in tqdm(range(MAX_EPOCHS)):\n",
    "    # Make sure gradient tracking is on, and do a pass over the data for the training process\n",
    "    model.train()\n",
    "    running_loss = 0.\n",
    "    for i, data in enumerate(loader_train):\n",
    "        # Every data instance is an input & label pair\n",
    "        inputs, labels = data\n",
    "        # We move the data instance from CPU to the device\n",
    "        inputs = inputs.to(device)\n",
    "        labels = labels.to(device)\n",
    "        # Zero your gradients for every batch!\n",
    "        optimizer.zero_grad()\n",
    "        # Make predictions for this batch\n",
    "        # outputs = model(inputs)\n",
    "        outputs = model(inputs).flatten() # flatten: (batch,1) -> (batch,)\n",
    "        # Compute the loss and its gradients\n",
    "        loss = loss_fn(outputs, labels)\n",
    "        loss.backward()\n",
    "        # Adjust learning weights\n",
    "        optimizer.step()\n",
    "        # Gather data and report\n",
    "        running_loss += loss.detach().item()\n",
    "    # Calculate the average training loss\n",
    "    avg_loss = running_loss / (i + 1)\n",
    "\n",
    "    # We don't need gradients for the model validation process\n",
    "    model.eval()\n",
    "    running_vloss = 0.0\n",
    "    y_true = []\n",
    "    y_pred = []\n",
    "    with torch.no_grad():\n",
    "        for i, vdata in enumerate(loader_val):\n",
    "            vinputs, vlabels = vdata\n",
    "            y_true.extend(vlabels.numpy().tolist())\n",
    "            # voutputs = model(vinputs.to(device))\n",
    "            voutputs = model(vinputs.to(device)).flatten() # flatten: (batch,1) -> (batch,)\n",
    "            vloss = loss_fn(voutputs, vlabels.to(device))\n",
    "            running_vloss += vloss.item()\n",
    "            # the class with the highest energy is what we choose as prediction\n",
    "            # _, predicted = torch.max(voutputs.data, 1)\n",
    "            # y_pred.extend(predicted.cpu().numpy().tolist())\n",
    "            # we save the regression result as is\n",
    "            y_pred.extend(voutputs.cpu().numpy().tolist())\n",
    "\n",
    "    # Calculate the average validation loss\n",
    "    avg_vloss = running_vloss / (i + 1)\n",
    "    # Calculate our classification metrics\n",
    "    # acc = accuracy_score(y_true, y_pred)\n",
    "    # f1 = f1_score(y_true, y_pred, average=\"weighted\")\n",
    "    # Calculate our regression metrics\n",
    "    mae = mean_absolute_error(y_true, y_pred)\n",
    "    mse = mean_squared_error(y_true, y_pred)\n",
    "    rmse = np.sqrt(mse)\n",
    "    r2 = r2_score(y_true, y_pred)\n",
    "\n",
    "    # Log the running loss averaged per batch\n",
    "    # for both training and validation\n",
    "    writer.add_scalar('train/loss', avg_loss, epoch_number + 1)\n",
    "    writer.add_scalar('val/loss', avg_vloss, epoch_number + 1)\n",
    "    # writer.add_scalar('val/acc', acc, epoch_number + 1)\n",
    "    # writer.add_scalar('val/weighted_f1', f1, epoch_number + 1)\n",
    "    writer.add_scalar('val/mae', mae, epoch_number + 1)\n",
    "    writer.add_scalar('val/mse', mse, epoch_number + 1)\n",
    "    writer.add_scalar('val/rmse', rmse, epoch_number + 1)\n",
    "    writer.add_scalar('val/r2_score', r2, epoch_number + 1)\n",
    "    writer.flush()\n",
    "\n",
    "\n",
    "    # Track best performance, and save the model's state (weights)\n",
    "    # if f1 > best_f1:\n",
    "    #     best_f1 = f1\n",
    "    if mae < best_mae:\n",
    "        best_mae = mae\n",
    "        model_path = os.path.join(save_dir, 'best.pt')\n",
    "        torch.save(model.state_dict(), model_path)\n",
    "    if avg_vloss < lowest_loss:\n",
    "        lowest_loss = avg_vloss\n",
    "        model_path = os.path.join(save_dir, 'lowest_loss.pt')\n",
    "        torch.save(model.state_dict(), model_path)\n",
    "    model_path = os.path.join(save_dir, 'last.pt')\n",
    "    torch.save(model.state_dict(), model_path)\n",
    "\n",
    "    epoch_number += 1"
   ]
  },
  {
   "cell_type": "markdown",
   "metadata": {},
   "source": [
    "## References\n",
    "[1] https://pytorch.org/tutorials/beginner/introyt/trainingyt.html"
   ]
  }
 ],
 "metadata": {
  "kernelspec": {
   "display_name": "Python 3.8.10 ('ai_class')",
   "language": "python",
   "name": "python3"
  },
  "language_info": {
   "codemirror_mode": {
    "name": "ipython",
    "version": 3
   },
   "file_extension": ".py",
   "mimetype": "text/x-python",
   "name": "python",
   "nbconvert_exporter": "python",
   "pygments_lexer": "ipython3",
   "version": "3.8.10"
  },
  "orig_nbformat": 4,
  "vscode": {
   "interpreter": {
    "hash": "45806f2a31fc2394908bf2aae38bc8f96498b1e9c39d8308e884e6256764b6c9"
   }
  }
 },
 "nbformat": 4,
 "nbformat_minor": 2
}
